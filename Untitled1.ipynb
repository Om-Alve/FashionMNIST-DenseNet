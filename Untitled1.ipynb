{
 "cells": [
  {
   "cell_type": "code",
   "execution_count": 6,
   "id": "38fea548-7a5f-4aa3-9809-7c406a4d768d",
   "metadata": {
    "tags": []
   },
   "outputs": [],
   "source": [
    "import torch\n",
    "import torch.nn as nn\n",
    "import torch.nn.functional as F\n",
    "import numpy as np"
   ]
  },
  {
   "cell_type": "code",
   "execution_count": 105,
   "id": "b89f6555-ce21-4c11-9afd-1d6c01e5c733",
   "metadata": {
    "tags": []
   },
   "outputs": [],
   "source": [
    "class TransitionLayer(nn.Module):\n",
    "    def __init__(self,num_features,reduction):\n",
    "        super().__init__()\n",
    "        self.conv = nn.Sequential(\n",
    "            nn.BatchNorm2d(num_features),\n",
    "            nn.ReLU(),\n",
    "            nn.Conv2d(num_features,int(num_features * reduction),kernel_size=1,stride=1,bias=False),\n",
    "            nn.AvgPool2d(kernel_size=2,stride=2),\n",
    "        )\n",
    "    def forward(self,x):\n",
    "        return self.conv(x)"
   ]
  },
  {
   "cell_type": "code",
   "execution_count": 106,
   "id": "cf84d599-0900-4591-90c7-168818695324",
   "metadata": {
    "tags": []
   },
   "outputs": [
    {
     "data": {
      "text/plain": [
       "torch.Size([1, 16, 28, 28])"
      ]
     },
     "execution_count": 106,
     "metadata": {},
     "output_type": "execute_result"
    }
   ],
   "source": [
    "x = torch.randn(1,32,56,56)\n",
    "TransitionLayer(num_features=32,reduction=0.5)(x).shape"
   ]
  },
  {
   "cell_type": "code",
   "execution_count": 107,
   "id": "5c605090-3e85-4323-a9b8-95aaed6cb156",
   "metadata": {
    "tags": []
   },
   "outputs": [],
   "source": [
    "class DenseLayer(nn.Module):\n",
    "    def __init__(self,num_features,growth_rate,bottleneck_size,dropout=0.2):\n",
    "        super().__init__()\n",
    "        self.bottleneck = nn.Sequential(\n",
    "            nn.BatchNorm2d(num_features),\n",
    "            nn.ReLU(),\n",
    "            nn.Conv2d(num_features,bottleneck_size * growth_rate,kernel_size=1,stride=1,bias=False),\n",
    "        ) \n",
    "        self.conv = nn.Sequential(\n",
    "            nn.BatchNorm2d(bottleneck_size * growth_rate),\n",
    "            nn.ReLU(),\n",
    "            nn.Conv2d(bottleneck_size * growth_rate, growth_rate,kernel_size=3,stride=1,padding=1,bias=False),\n",
    "            nn.Dropout(dropout),\n",
    "        )\n",
    "        \n",
    "    def forward(self,input):\n",
    "        prev_features = input\n",
    "        prev_features = torch.cat(prev_features,dim=1)\n",
    "        bottleneck_out = self.bottleneck(prev_features)\n",
    "        out_features = self.conv(bottleneck_out)\n",
    "        \n",
    "        return out_features"
   ]
  },
  {
   "cell_type": "code",
   "execution_count": 108,
   "id": "3a22e2b8-772e-4fc6-85b7-3062eadd48f3",
   "metadata": {
    "tags": []
   },
   "outputs": [],
   "source": [
    "class DenseBlock(nn.Module):\n",
    "    def __init__(self,num_layers,num_features,bottleneck_size,growth_rate):\n",
    "        super().__init__()\n",
    "        self.layers = nn.ModuleList([DenseLayer(num_features + i * growth_rate,growth_rate,bottleneck_size) for i in range(num_layers)])\n",
    "    \n",
    "    def forward(self,init_features):\n",
    "        features = [init_features]\n",
    "        for layer in self.layers:\n",
    "            new_features = layer(features)\n",
    "            features.append(new_features)\n",
    "        return torch.cat(features,dim=1)"
   ]
  },
  {
   "cell_type": "code",
   "execution_count": 112,
   "id": "d3cabd63-5739-4f60-9ffe-d75da6ce31fe",
   "metadata": {},
   "outputs": [],
   "source": [
    "class DenseNet(nn.Module):\n",
    "    def __init__(self,num_init_features,bottleneck_size,growth_rate,reduction=0.5,blocks=[6,12,24,16],num_classes=10):\n",
    "        super().__init__()\n",
    "        self.features = nn.Sequential(\n",
    "            nn.Conv2d(1,num_init_features,kernel_size=3,padding=1,bias=False),\n",
    "            nn.BatchNorm2d(num_init_features),\n",
    "            nn.ReLU(),\n",
    "            nn.MaxPool2d(kernel_size=2,stride=2),\n",
    "        )\n",
    "        num_features = num_init_features\n",
    "        \n",
    "        self.block1 = DenseBlock(blocks[0],num_features,bottleneck_size,growth_rate)\n",
    "        num_features = num_features + growth_rate * blocks[0]\n",
    "        self.trans1 = TransitionLayer(num_features,reduction)\n",
    "        num_features = int(num_features * reduction)\n",
    "        \n",
    "        self.block2 = DenseBlock(blocks[1],num_features,bottleneck_size,growth_rate)\n",
    "        num_features = num_features + growth_rate * blocks[1]\n",
    "        self.trans2 = TransitionLayer(num_features,reduction)\n",
    "        num_features = int(num_features * reduction)\n",
    "        \n",
    "        self.block3 = DenseBlock(blocks[2],num_features,bottleneck_size,growth_rate)\n",
    "        num_features = num_features + growth_rate * blocks[2]\n",
    "        self.trans3 = TransitionLayer(num_features,reduction)\n",
    "        num_features = int(num_features * reduction)\n",
    "        \n",
    "        self.block4 = DenseBlock(blocks[3],num_features,bottleneck_size,growth_rate)\n",
    "        num_features = num_features + growth_rate * blocks[3]\n",
    "        \n",
    "        self.pool = nn.AvgPool2d(4)\n",
    "        self.head = nn.Linear(num_features,num_classes)\n",
    "        \n",
    "        self._initialize_weights()\n",
    "        \n",
    "    def _initialize_weights(self):\n",
    "        for m in self.modules():\n",
    "            if isinstance(m, nn.Conv2d) or isinstance(m, nn.Linear):\n",
    "                torch.nn.init.kaiming_normal_(m.weight, mode='fan_out', nonlinearity='leaky_relu')\n",
    "                if m.bias is not None:\n",
    "                    torch.nn.init.constant_(m.bias, 0)\n",
    "            elif isinstance(m, nn.BatchNorm2d):\n",
    "                torch.nn.init.constant_(m.weight, 1)\n",
    "                torch.nn.init.constant_(m.bias, 0)\n",
    "        \n",
    "    def forward(self,x):\n",
    "        x = self.features(x)\n",
    "        \n",
    "        x = self.block1(x)\n",
    "        x = self.trans1(x)\n",
    "        \n",
    "        x = self.block2(x)\n",
    "        x = self.trans2(x)\n",
    "        \n",
    "        x = self.block3(x)\n",
    "        x = self.trans3(x)\n",
    "        \n",
    "        x = self.block4(x)\n",
    "        \n",
    "        x = self.pool(x)\n",
    "        \n",
    "        x = x.view(-1)\n",
    "        \n",
    "        x = self.head(x)\n",
    "        return x"
   ]
  },
  {
   "cell_type": "code",
   "execution_count": 113,
   "id": "87e262aa-a197-4940-b7d3-33e111c02e84",
   "metadata": {
    "tags": []
   },
   "outputs": [],
   "source": [
    "model = DenseNet(num_init_features=64,bottleneck_size=4,growth_rate=12)"
   ]
  },
  {
   "cell_type": "code",
   "execution_count": 114,
   "id": "19e484af-ed87-439d-aa5d-fa0c45acda1e",
   "metadata": {
    "tags": []
   },
   "outputs": [
    {
     "data": {
      "text/plain": [
       "1052666"
      ]
     },
     "execution_count": 114,
     "metadata": {},
     "output_type": "execute_result"
    }
   ],
   "source": [
    "sum([p.numel() for p in model.parameters()])"
   ]
  },
  {
   "cell_type": "code",
   "execution_count": 115,
   "id": "c125d924-57d8-4aad-81d7-32c75fc041f5",
   "metadata": {
    "tags": []
   },
   "outputs": [],
   "source": [
    "x = torch.randn(1,1,64,64)"
   ]
  },
  {
   "cell_type": "code",
   "execution_count": 116,
   "id": "a7d1e543-4031-4cc0-9d45-a90e1ad0f5ba",
   "metadata": {
    "tags": []
   },
   "outputs": [
    {
     "data": {
      "text/plain": [
       "tensor([ -3.0664,   0.2878,  -0.1619,  14.5991,  -2.5965,   4.4686,   3.3430,\n",
       "          6.6881, -17.0564,   6.4343], grad_fn=<ViewBackward0>)"
      ]
     },
     "execution_count": 116,
     "metadata": {},
     "output_type": "execute_result"
    }
   ],
   "source": [
    "model(x)"
   ]
  },
  {
   "cell_type": "code",
   "execution_count": null,
   "id": "6bff6c33-6352-4d58-981f-de332e5020e1",
   "metadata": {},
   "outputs": [],
   "source": []
  }
 ],
 "metadata": {
  "kernelspec": {
   "display_name": "acehacks",
   "language": "python",
   "name": "acehacks"
  },
  "language_info": {
   "codemirror_mode": {
    "name": "ipython",
    "version": 3
   },
   "file_extension": ".py",
   "mimetype": "text/x-python",
   "name": "python",
   "nbconvert_exporter": "python",
   "pygments_lexer": "ipython3",
   "version": "3.12.2"
  }
 },
 "nbformat": 4,
 "nbformat_minor": 5
}
